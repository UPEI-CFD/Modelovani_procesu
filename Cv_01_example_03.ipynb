{
 "metadata": {
  "name": "",
  "signature": "sha256:3b8d82df675bb69ea042f55bbe8ae08fee10fa98fa6decde0be2e0706d72713c"
 },
 "nbformat": 3,
 "nbformat_minor": 0,
 "worksheets": [
  {
   "cells": [
    {
     "cell_type": "heading",
     "level": 1,
     "metadata": {},
     "source": [
      "V\u00fdpo\u010det pr\u016ftoku recyklem"
     ]
    },
    {
     "cell_type": "heading",
     "level": 2,
     "metadata": {},
     "source": [
      "Zad\u00e1n\u00ed"
     ]
    },
    {
     "cell_type": "markdown",
     "metadata": {},
     "source": [
      "Vypo\u010dt\u011bte pot\u0159ebn\u00fd pr\u016ftok recyklem, tak aby byly spl\u011bny po\u017eadovan\u00e9 parametry jednotliv\u00fdch proud\u016f. Uva\u017eujte nejd\u0159\u00edve konstantn\u00ed m\u011brnou tepelnou kapacitu. N\u00e1sledn\u011b probl\u00e9m upravte pro vyu\u017eit\u00ed prom\u011bnn\u00e9 cp dle tabulky:\n",
      "\n",
      "| N\u00e1zev     |    A    |    B    |   C   |     D     | E          |\n",
      "|-----------|:-------:|:-------:|:-----:|:---------:|:----------:|\n",
      "| Voda | 276.370 | \u22122090.1 | 8.125 | \u22120.014116 | 9.3701E-06 |\n",
      "\n",
      "\n",
      "<img src=\"Recykl.png\">"
     ]
    },
    {
     "cell_type": "code",
     "collapsed": false,
     "input": [
      "cp=4.18 #kJ/kg-\u00b0C\n",
      "m_in = 1000. # kg/h\n",
      "T_in=70. #\u00b0C\n",
      "m_out = 1000. # kg/h\n",
      "T_out = 105. #\u00b0C\n",
      "Q_vym = 146300. #kJ/h\n",
      "\n",
      "#------- Odtud n\u00ed\u017ee to lze nahradit funkc\u00ed-------- fghf\n",
      "m_rec = 600 #kg/h prvotn\u00ed odhad\n",
      "T_rec = 105. #\u00b0C\n",
      "\n",
      "#Sm\u011b\u0161ova\u010d\n",
      "m_sm = m_in + m_rec\n",
      "T_sm = 80#(T_in*m_in + T_rec*m_rec)/(m_in + m_rec)\n",
      "bil_sm_m = m_sm - m_in - m_rec\n",
      "bil_sm_en = cp*T_sm*m_sm-cp*T_in*m_in-cp*T_rec*m_rec\n",
      "\n",
      "#V\u00fdm\u011bn\u00edk\n",
      "m_vym=m_sm\n",
      "T_vym=T_out\n",
      "bil_vym_m = m_vym - m_sm\n",
      "bil_vym_en = cp*T_vym*m_vym - Q_vym - cp*T_sm*m_sm #kJ/h\n",
      "\n",
      "#Rozd\u011blova\u010d\n",
      "bil_roz_m = m_out + m_rec - m_vym\n",
      "bil_roz_en = cp*T_rec*m_rec + cp*T_out*m_out - cp*T_vym*m_vym \n",
      "\n",
      "#\u00da\u010delov\u00e1 funkce\n",
      "UF = bil_sm_m**2+bil_sm_en**2 + bil_vym_m**2 + bil_vym_en**2 + bil_roz_m**2 + bil_roz_en**2\n",
      "#---------a\u017e sem------------\n",
      "\n",
      "print (\"Sm\u011b\u0161ova\u010d:\")\n",
      "print (\"Teplota = %g \u00b0C\")%T_sm\n",
      "print (\"Pr\u016ftok = %g \u00b0C\")%m_sm\n",
      "print (\"Hmotnostn\u00ed bilance = %g kg/h\")%bil_sm_m\n",
      "print (\"Energetick\u00e1 bilance = %g kg/h\")%bil_sm_en\n",
      "print\n",
      "print (\"V\u00fdm\u011bn\u00edk:\")\n",
      "print (\"Teplota = %g \u00b0C\")%T_vym\n",
      "print (\"Pr\u016ftok = %g \u00b0C\")%m_vym\n",
      "print (\"Hmotnostn\u00ed bilance = %g kg/h\")%bil_vym_m\n",
      "print (\"Energetick\u00e1 bilance = %g kg/h\")%bil_vym_en\n",
      "print\n",
      "print (\"Rozd\u011blova\u010d:\")\n",
      "print (\"Hmotnostn\u00ed bilance = %g kg/h\")%bil_roz_m\n",
      "print (\"Energetick\u00e1 bilance = %g kg/h\")%bil_roz_en\n",
      "print\n",
      "print (\"\u00da\u010delov\u00e1 funkce = %g\")%UF"
     ],
     "language": "python",
     "metadata": {},
     "outputs": [
      {
       "output_type": "stream",
       "stream": "stdout",
       "text": [
        "Sm\u011b\u0161ova\u010d:\n",
        "Teplota = 80 \u00b0C\n",
        "Pr\u016ftok = 1600 \u00b0C\n",
        "Hmotnostn\u00ed bilance = 0 kg/h\n",
        "Energetick\u00e1 bilance = -20900 kg/h\n",
        "\n",
        "V\u00fdm\u011bn\u00edk:\n",
        "Teplota = 105 \u00b0C\n",
        "Pr\u016ftok = 1600 \u00b0C\n",
        "Hmotnostn\u00ed bilance = 0 kg/h\n",
        "Energetick\u00e1 bilance = 20900 kg/h\n",
        "\n",
        "Rozd\u011blova\u010d:\n",
        "Hmotnostn\u00ed bilance = 0 kg/h\n",
        "Energetick\u00e1 bilance = 0 kg/h\n",
        "\n",
        "\u00da\u010delov\u00e1 funkce = 8.7362e+08\n"
       ]
      }
     ],
     "prompt_number": 9
    },
    {
     "cell_type": "markdown",
     "metadata": {},
     "source": [
      "Optimalizace pomoc\u00ed Pythonu:\n",
      "    http://docs.scipy.org/doc/scipy-0.14.0/reference/tutorial/optimize.html\n",
      "\n",
      "V\u00fdpo\u010det z horn\u00ed bu\u0148ky \"zabal\u00edme\" do funkce a nech\u00e1me si \u00falohu vy\u0159e\u0161it pomoc\u00ed specializovan\u00e9ho n\u00e1stroje - funkce minimize_scalar()."
     ]
    },
    {
     "cell_type": "code",
     "collapsed": false,
     "input": [
      "#Importujeme funkci z bal\u00edku scipy.optimize\n",
      "from scipy.optimize import minimize_scalar\n",
      "\n",
      "def recykl(m_rec,tiskni=0):\n",
      "    '''\n",
      "    Funkce prp v\u00fdpo\u010det recykl\n",
      "    '''\n",
      "    T_rec = 105. #\u00b0C\n",
      "\n",
      "    #Sm\u011b\u0161ova\u010d\n",
      "    m_sm = m_in + m_rec\n",
      "    T_sm = 80#(T_in*m_in + T_rec*m_rec)/(m_in + m_rec)\n",
      "    bil_sm_m = m_sm - m_in - m_rec\n",
      "    bil_sm_en = cp*T_sm*m_sm-cp*T_in*m_in-cp*T_rec*m_rec\n",
      "\n",
      "    #V\u00fdm\u011bn\u00edk\n",
      "    m_vym=m_sm\n",
      "    T_vym=T_out\n",
      "    bil_vym_m = m_vym - m_sm\n",
      "    bil_vym_en = cp*T_vym*m_vym - Q_vym - cp*T_sm*m_sm #kJ/h\n",
      "\n",
      "    #Rozd\u011blova\u010d\n",
      "    bil_roz_m = m_out + m_rec - m_vym\n",
      "    bil_roz_en = cp*T_rec*m_rec + cp*T_out*m_out - cp*T_vym*m_vym \n",
      "\n",
      "    #\u00da\u010delov\u00e1 funkce\n",
      "    UF = bil_sm_m**2+bil_sm_en**2 + bil_vym_m**2 + bil_vym_en**2 + bil_roz_m**2 + bil_roz_en**2\n",
      "    \n",
      "    if tiskni > 0:\n",
      "        print (\"Sm\u011b\u0161ova\u010d:\")\n",
      "        print (\"Teplota = %g \u00b0C\")%T_sm\n",
      "        print (\"Pr\u016ftok = %g \u00b0C\")%m_sm\n",
      "        print (\"Hmotnostn\u00ed bilance = %g kg/h\")%bil_sm_m\n",
      "        print (\"Energetick\u00e1 bilance = %f kg/h\")%bil_sm_en\n",
      "        print\n",
      "        print (\"V\u00fdm\u011bn\u00edk:\")\n",
      "        print (\"Teplota = %g \u00b0C\")%T_vym\n",
      "        print (\"Pr\u016ftok = %g \u00b0C\")%m_vym\n",
      "        print (\"Hmotnostn\u00ed bilance = %g kg/h\")%bil_vym_m\n",
      "        print (\"Energetick\u00e1 bilance = %g kg/h\")%bil_vym_en\n",
      "        print\n",
      "        print (\"Rozd\u011blova\u010d:\")\n",
      "        print (\"Hmotnostn\u00ed bilance = %g kg/h\")%bil_roz_m\n",
      "        print (\"Energetick\u00e1 bilance = %g kg/h\")%bil_roz_en\n",
      "        print\n",
      "        print (\"\u00da\u010delov\u00e1 funkce = %g\")%UF\n",
      "    \n",
      "    return UF\n",
      "\n",
      "res = minimize_scalar(recykl,method='brent')\n",
      "print res\n",
      "print\n",
      "UF=recykl(res.x,1)\n",
      "\n"
     ],
     "language": "python",
     "metadata": {},
     "outputs": [
      {
       "output_type": "stream",
       "stream": "stdout",
       "text": [
        "  fun: 7.084668275422163e-17\n",
        " nfev: 5\n",
        "  nit: 4\n",
        "    x: 399.9999999999428\n",
        "\n",
        "Sm\u011b\u0161ova\u010d:\n",
        "Teplota = 80 \u00b0C\n",
        "Pr\u016ftok = 1400 \u00b0C\n",
        "Hmotnostn\u00ed bilance = -1.13687e-13 kg/h\n",
        "Energetick\u00e1 bilance = 0.000000 kg/h\n",
        "\n",
        "V\u00fdm\u011bn\u00edk:\n",
        "Teplota = 105 \u00b0C\n",
        "Pr\u016ftok = 1400 \u00b0C\n",
        "Hmotnostn\u00ed bilance = 0 kg/h\n",
        "Energetick\u00e1 bilance = -5.93718e-09 kg/h\n",
        "\n",
        "Rozd\u011blova\u010d:\n",
        "Hmotnostn\u00ed bilance = 0 kg/h\n",
        "Energetick\u00e1 bilance = 0 kg/h\n",
        "\n",
        "\u00da\u010delov\u00e1 funkce = 7.08467e-17\n"
       ]
      }
     ],
     "prompt_number": 16
    }
   ],
   "metadata": {}
  }
 ]
}