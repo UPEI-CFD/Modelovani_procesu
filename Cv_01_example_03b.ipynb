{
 "metadata": {
  "name": "",
  "signature": "sha256:7443ce06b758854e504df8e508489986f6854c2be6184c06ba9d25d003221b70"
 },
 "nbformat": 3,
 "nbformat_minor": 0,
 "worksheets": [
  {
   "cells": [
    {
     "cell_type": "heading",
     "level": 1,
     "metadata": {},
     "source": [
      "V\u00fdpo\u010det pr\u016ftoku recyklem"
     ]
    },
    {
     "cell_type": "heading",
     "level": 2,
     "metadata": {},
     "source": [
      "Zad\u00e1n\u00ed"
     ]
    },
    {
     "cell_type": "markdown",
     "metadata": {},
     "source": [
      "Vypo\u010dt\u011bte pot\u0159ebn\u00fd pr\u016ftok recyklem, tak aby byly spl\u011bny po\u017eadovan\u00e9 parametry jednotliv\u00fdch proud\u016f. Uva\u017eujte nejd\u0159\u00edve konstantn\u00ed m\u011brnou tepelnou kapacitu. N\u00e1sledn\u011b probl\u00e9m upravte pro vyu\u017eit\u00ed prom\u011bnn\u00e9 cp dle tabulky [Perry's Chemical Engineers' Handbook, 8th Edition, McGraw-Hill, 2008]:\n",
      "\n",
      "| N\u00e1zev     |    A    |    B    |   C   |     D     | E          |\n",
      "|-----------|:-------:|:-------:|:-----:|:---------:|:----------:|\n",
      "| Voda | 276.370 | \u22122090.1 | 8.125 | \u22120.014116 | 9.3701E-06 |\n",
      "\n",
      "\n",
      "<img src=\"images/Recykl.png\">"
     ]
    },
    {
     "cell_type": "code",
     "collapsed": false,
     "input": [
      "from __future__ import division\n",
      "cp=4.18 #kJ/kg-\u00b0C\n",
      "m_in = 1000. # kg/h\n",
      "T_in=70. #\u00b0C\n",
      "T_out = 105. #\u00b0C\n",
      "\n",
      "\n",
      "#print (\"Sm\u011b\u0161ova\u010d:\")\n",
      "#print (\"\\tTeplota = %g \u00b0C\")%T_sm\n",
      "#print (\"\\tPr\u016ftok = %g kg/h\")%m_sm\n",
      "#print (\"\\tHmotnostn\u00ed bilance = %g kg/h\")%bil_sm_m\n",
      "#print (\"\\tEnergetick\u00e1 bilance = %g kJ/h\")%bil_sm_en\n",
      "#print\n",
      "#print (\"V\u00fdm\u011bn\u00edk:\")\n",
      "#print (\"\\tTeplota = %g \u00b0C\")%T_vym\n",
      "#print (\"\\tPr\u016ftok = %g kg/h\")%m_vym\n",
      "#print (\"\\tV\u00fdkon = %g kJ/h\")%Q_vym\n",
      "#print (\"\\tHmotnostn\u00ed bilance = %g kg/h\")%bil_vym_m\n",
      "#print (\"\\tEnergetick\u00e1 bilance = %g kJ/h\")%bil_vym_en\n",
      "#print\n",
      "#print (\"Rozd\u011blova\u010d:\")\n",
      "#print (\"\\tHmotnostn\u00ed bilance = %g kg/h\")%bil_roz_m\n",
      "#print (\"\\tEnergetick\u00e1 bilance = %g kJ/h\")%bil_roz_en\n",
      "#print\n",
      "#print (\"Celkov\u00e1 bilance = %g\")%UF"
     ],
     "language": "python",
     "metadata": {},
     "outputs": [],
     "prompt_number": 8
    },
    {
     "cell_type": "markdown",
     "metadata": {},
     "source": [
      "Optimalizace pomoc\u00ed Pythonu:\n",
      "    http://docs.scipy.org/doc/scipy-0.14.0/reference/tutorial/optimize.html\n",
      "\n",
      "V\u00fdpo\u010det z horn\u00ed bu\u0148ky \"zabal\u00edme\" do funkce a nech\u00e1me si \u00falohu vy\u0159e\u0161it pomoc\u00ed specializovan\u00e9ho n\u00e1stroje - funkce minimize_scalar()."
     ]
    },
    {
     "cell_type": "code",
     "collapsed": false,
     "input": [
      "#Importujeme funkci z bal\u00edku scipy.optimize\n",
      "from scipy.optimize import minimize_scalar\n",
      "\n",
      "#res = minimize_scalar(recykl,method='brent')\n",
      "#print res\n",
      "#print\n",
      "#UF=recykl(res.x,1)"
     ],
     "language": "python",
     "metadata": {},
     "outputs": [],
     "prompt_number": 6
    },
    {
     "cell_type": "code",
     "collapsed": false,
     "input": [
      "%matplotlib inline\n",
      "\n",
      "import numpy as np\n",
      "import matplotlib.pyplot as plt\n",
      "\n",
      "UF=np.array([])\n",
      "m=np.linspace(-1000,3000,100)\n",
      "\n",
      "UF=np.linspace(-1000,3000,100)\n",
      "#for m_rec in m:\n",
      "#    UF=np.append(UF,recykl(m_rec))\n",
      "\n",
      "plt.xlabel(\"Hmotnostni tok [kg/s]\")\n",
      "plt.ylabel(\"Celkova bilance [-]\")\n",
      "plt.plot(m, UF)"
     ],
     "language": "python",
     "metadata": {},
     "outputs": [
      {
       "metadata": {},
       "output_type": "pyout",
       "prompt_number": 11,
       "text": [
        "[<matplotlib.lines.Line2D at 0xaf60d7ec>]"
       ]
      },
      {
       "metadata": {},
       "output_type": "display_data",
       "png": "[encoded data removed]",
       "text": [
        "<matplotlib.figure.Figure at 0xaf6b816c>"
       ]
      }
     ],
     "prompt_number": 11
    }
   ],
   "metadata": {}
  }
 ]
}