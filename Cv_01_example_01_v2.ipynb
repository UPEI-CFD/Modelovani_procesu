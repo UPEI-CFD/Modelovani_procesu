{
 "metadata": {
  "name": "",
  "signature": "sha256:34ee194f94cb0b9be12e54591e5109810c1fe368b7d262383775cf41d117f8ef"
 },
 "nbformat": 3,
 "nbformat_minor": 0,
 "worksheets": [
  {
   "cells": [
    {
     "cell_type": "heading",
     "level": 1,
     "metadata": {},
     "source": [
      "Energetick\u00e1 bilance oh\u0159\u00edva\u010de\n"
     ]
    },
    {
     "cell_type": "heading",
     "level": 2,
     "metadata": {},
     "source": [
      "Zad\u00e1n\u00ed"
     ]
    },
    {
     "cell_type": "markdown",
     "metadata": {},
     "source": [
      "C\u00edlem je vypo\u010d\u00edtat pot\u0159ebn\u00e9 teplo pro p\u0159edeh\u0159\u00e1t\u00ed plynu o slo\u017een\u00ed 10 % CH<sub>4</sub> a 90 % vzduchu (objemov\u011b) z teploty 20 \u00b0C na 300 \u00b0C p\u0159i pr\u016ftoku plynu 2000 L<sub>N</sub>/min. <img src=\"Ikona_ohrivac.png\">"
     ]
    },
    {
     "cell_type": "heading",
     "level": 2,
     "metadata": {},
     "source": [
      "Postup \u0159e\u0161en\u00ed"
     ]
    },
    {
     "cell_type": "markdown",
     "metadata": {},
     "source": [
      "V\u00fdsledek obdr\u017e\u00edme, jestli\u017ee provedeme energetickou bilanci ode\u010dten\u00edm vstupu od v\u00fdstupu se zanedb\u00e1n\u00edm potenci\u00e1ln\u00ed energie a pr\u00e1ce ($\\dot Q = \\Delta \\dot H$):\n",
      "\\begin{equation*}\n",
      "\\Delta \\dot{H} = \\dot Q = \\sum_{out} \\dot{n_i}H_i - \\sum_{in} \\dot{n_i}H_i\n",
      "\\end{equation*}\n",
      "\n",
      "Pro kontrolu si ud\u011bl\u011bjme rozm\u011brovu anal\u00fdzu v\u00fdpo\u010dtu:\n",
      "\\begin{equation*}\n",
      "[kJ/s] = [kW] = [mol/s] \\cdot [kJ/mol]\n",
      "\\end{equation*}\n",
      "\n",
      "Pro proveden\u00ed bilance pot\u0159ebujeme z\u00edskat molov\u00fd tok nam\u00edsto objemov\u00e9ho. Pro p\u0159epo\u010det vyu\u017eijeme m\u011brn\u00fd objem plynu $V_{sp} = 22.414~m^3/kmol$ => $\\dot n = V / V_{sp}$\n",
      "\n",
      "D\u00e1le pot\u0159ebujeme zn\u00e1t funkci pro v\u00fdpo\u010det m\u011brn\u00e9 tepeln\u00e9 kapacity vzduchu a metanu. Standardn\u00ed forma je poskytnout koeficienty A a\u017e E pro rovnici $c_p = A + B \\cdot T + C\\cdot T^2 + D\\cdot T^3 + E\\cdot T^4$.\n",
      "\n",
      "|                |     A     |     B     |     C     |     D     |\n",
      "|----------------|:---------:|:---------:|:---------:|:---------:|\n",
      "| CH<sub>4</sub> | 3.43E-002 | 5.47E-005 | 3.66E-009 | 1.10E-011 |\n",
      "| Vzduch         | 2.89E-002 | 4.15E-006 | 3.19E-009 | 1.97E-012 |\n",
      "\n",
      "M\u011brnou tepelnou kapacitu vyu\u017eijeme pro v\u00fdpo\u010det entalpie:\n",
      "\n",
      "\\begin{equation*}\n",
      "\\Delta H_i = \\int_{T1}^{T2} c_{pi} dT\n",
      "\\end{equation*}\n"
     ]
    },
    {
     "cell_type": "code",
     "collapsed": false,
     "input": [
      "#Doporu\u010den\u00e9 nastaven\u00ed\n",
      "from __future__ import division\n",
      "\n",
      "#Definov\u00e1n\u00ed prom\u011bnn\u00fdch\n",
      "x_CH4=0.1 #CH4\n",
      "x_air=1-x_CH4\n",
      "T1=20.0 #\u00b0C\n",
      "T2=300.0 #\u00b0C\n",
      "V_dot=2000.0 #L/min\n",
      "V_dot=V_dot/1000/60 #m3/s\n",
      "\n",
      "#------V\u00fdpo\u010det------\n",
      "V_sp = 22.414/1000 #m3/mol m\u011brn\u00fd objem plynu\n",
      "n=V_dot/V_sp #mol/s P\u0159evod na mol\u00e1rn\u00ed mno\u017estv\u00ed pomoc\u00ed m\u011brn\u00e9ho objemu\n",
      "\n",
      "#CH4 [kJ/mol]\n",
      "delta_H1 = (3.431e-2 * T2 + T2**2/2 * 5.469e-5 + T2**3/3 * 0.3661e-8 + T2**4/4 * 11e-12) -\\\n",
      "           (3.431e-2 * T1 + T1**2/2 * 5.469e-5 + T1**3/3 * 0.3661e-8 + T1**4/4 * 11e-12) \n",
      "\n",
      "#Vzduch [kJ/mol]\n",
      "delta_H2 = (2.89e-2 * T2 + T2**2/2 * 4.15e-6 + T2**3/3 * 3.19e-9 + T2**4/4 * 1.97e-12) - \\\n",
      "           (2.89e-2 * T1 + T1**2/2 * 4.15e-6 + T1**3/3 * 3.19e-9 + T1**4/4 * 1.97e-12)\n",
      "\n",
      "print (\"CH4:    H1 = \"),delta_H1, \"kJ/mol\"\n",
      "print (\"Vzduch: H2 = \"),delta_H2, \"kJ/mol\"\n",
      "\n",
      "Qdot = n*x_CH4*delta_H1 + n*x_air*delta_H2\n",
      "print (\"Dodan\u00e9 teplo (kW): \"), (\"%.3g*%g*%.4g +  %.3g*%g*%.3g = \")%(n,x_CH4,delta_H1, n, x_air, delta_H2), Qdot\n",
      "\n",
      "#Alternativn\u00ed tisk (nevypad\u00e1 tak hezky).\n",
      "#print (\"Dodan\u00e9 teplo (kW): \"), n,\"*\",x_CH4,\"*\",delta_H1,\"+\", n,\"*\", x_air,\"*\", delta_H2, \"=\", Qdot"
     ],
     "language": "python",
     "metadata": {},
     "outputs": [
      {
       "output_type": "stream",
       "stream": "stdout",
       "text": [
        "CH4:    H1 =  12.1121257973 kJ/mol\n",
        "Vzduch: H2 =  8.31061066453 kJ/mol\n",
        "Dodan\u00e9 teplo (kW):  1.49*0.1*12.11 +  1.49*0.9*8.31 =  12.9246039348\n"
       ]
      }
     ],
     "prompt_number": 1
    },
    {
     "cell_type": "heading",
     "level": 2,
     "metadata": {},
     "source": [
      "Dopl\u0148ky pro zjednodu\u0161en\u00ed v\u00fdpo\u010dtu."
     ]
    },
    {
     "cell_type": "markdown",
     "metadata": {},
     "source": [
      "Pro v\u00fdpo\u010det m\u011brn\u00e9 tepeln\u00e9 kapacity je mo\u017en\u00e9 pou\u017e\u00edt funkci, kter\u00e9 se p\u0159edaj\u00ed koeficienty a teplota:"
     ]
    },
    {
     "cell_type": "code",
     "collapsed": false,
     "input": [
      "def cp(T,k):\n",
      "    ''' \n",
      "    V\u00fdpo\u010det cp [kJ/mol-\u00b0C]; \n",
      "    vstupy: T - teplota [\u00b0C]\n",
      "            k - list koeficient\u016f\n",
      "    '''\n",
      "    if len(k) == 2:\n",
      "        return k[0]+k[1]*T\n",
      "    if len(k) == 4:\n",
      "        return k[0] + k[1]*T + k[2]*T**2 + k[3]*T**3"
     ],
     "language": "python",
     "metadata": {},
     "outputs": [],
     "prompt_number": 2
    },
    {
     "cell_type": "markdown",
     "metadata": {},
     "source": [
      "P\u0159\u00edklad pou\u017eit\u00ed:"
     ]
    },
    {
     "cell_type": "code",
     "collapsed": false,
     "input": [
      "k=[3.43E-002, 5.47E-005, 3.66E-009, 1.10E-011]\n",
      "T=50 #\u00b0C\n",
      "cp_50 = cp(T, k)\n",
      "cp_50"
     ],
     "language": "python",
     "metadata": {},
     "outputs": [
      {
       "metadata": {},
       "output_type": "pyout",
       "prompt_number": 3,
       "text": [
        "0.037045524999999996"
       ]
      }
     ],
     "prompt_number": 3
    },
    {
     "cell_type": "markdown",
     "metadata": {},
     "source": [
      "N\u00e1sledn\u011b lze vyu\u017e\u00edt pro numerickou integraci:"
     ]
    },
    {
     "cell_type": "code",
     "collapsed": false,
     "input": [
      "#Nutno naimportovat dopl\u0148uj\u00edc\u00ed knihovny\n",
      "import scipy\n",
      "from scipy import integrate\n",
      "\n",
      "T1=20\n",
      "T2=80\n",
      "H1 ,err=scipy.integrate.quad(cp, T1, T2, k)  #Provede integraci mezi limity T1->T2\n",
      "H1 #kJ"
     ],
     "language": "python",
     "metadata": {},
     "outputs": [
      {
       "metadata": {},
       "output_type": "pyout",
       "prompt_number": 8,
       "text": [
        "2.2228270799999996"
       ]
      }
     ],
     "prompt_number": 8
    }
   ],
   "metadata": {}
  }
 ]
}