{
 "metadata": {
  "name": "",
  "signature": "sha256:38931d1dc235674b0f1626daf2e915e7d7c5bfb4937644ec17bbd8b71232ed34"
 },
 "nbformat": 3,
 "nbformat_minor": 0,
 "worksheets": [
  {
   "cells": [
    {
     "cell_type": "heading",
     "level": 1,
     "metadata": {},
     "source": [
      "Energetick\u00e1 bilance oh\u0159\u00edva\u010de\n"
     ]
    },
    {
     "cell_type": "heading",
     "level": 2,
     "metadata": {},
     "source": [
      "Zad\u00e1n\u00ed"
     ]
    },
    {
     "cell_type": "markdown",
     "metadata": {},
     "source": [
      "C\u00edlem je vypo\u010d\u00edtat pot\u0159ebn\u00e9 teplo pro p\u0159edeh\u0159\u00e1t\u00ed spalovac\u00edho vzduchu obohacen\u00e9ho o \u010dist\u00fd kysl\u00edk ve slo\u017een\u00ed 20 % O<sub>2</sub> a 80 % vzduchu (objemov\u011b) z teploty -10 \u00b0C na 200 \u00b0C p\u0159i pr\u016ftoku plynu 3.5 m<sup>3</sup><sub>N</sub>/min. <img src=\"images/Ikona_ohrivac_pr2.png\">\n",
      "\n",
      "Materi\u00e1lov\u00e9 vlastnosti (c<sub>p</sub>):\n",
      "\n",
      "|                |     A      |     B     |     C     |     D     |\n",
      "|----------------|:----------:|:---------:|:---------:|:---------:|\n",
      "| O<sub>2</sub>  | 2.91E-002 | 1.158E-005 | -0.6075E-008 | 1.311E-012 |\n",
      "| Vzduch         | 2.894E-002 | 4.147E-006 | 3.191E-009 | 1.965E-012 |\n"
     ]
    }
   ],
   "metadata": {}
  }
 ]
}