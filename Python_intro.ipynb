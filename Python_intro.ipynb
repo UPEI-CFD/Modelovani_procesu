{
 "metadata": {
  "name": "",
  "signature": "sha256:6f1279a1a760b2f90be2448eec1d5e4dbfa71b944713b879f03ea6da8df409d2"
 },
 "nbformat": 3,
 "nbformat_minor": 0,
 "worksheets": [
  {
   "cells": [
    {
     "cell_type": "heading",
     "level": 1,
     "metadata": {},
     "source": [
      "P\u0159edstaven\u00ed Pythonu"
     ]
    },
    {
     "cell_type": "markdown",
     "metadata": {},
     "source": [
      "Jedn\u00e1 se o velmi roz\u0161\u00ed\u0159en\u00fd OpenSource skriptovac\u00ed, programovac\u00ed jazyk. Velmi \u010dasto se vyu\u017e\u00edv\u00e1 pro v\u011bdeck\u00e9 \u00fa\u010dely. Jeho v\u00fdhodou je jednoduch\u00e1 syntaxe. V z\u00e1kladu jej lze pou\u017e\u00edt i m\u00edsto kalkula\u010dky:"
     ]
    },
    {
     "cell_type": "code",
     "collapsed": false,
     "input": [
      "1+5"
     ],
     "language": "python",
     "metadata": {},
     "outputs": [
      {
       "metadata": {},
       "output_type": "pyout",
       "prompt_number": 28,
       "text": [
        "6"
       ]
      }
     ],
     "prompt_number": 28
    },
    {
     "cell_type": "code",
     "collapsed": false,
     "input": [
      "1*9.2e3"
     ],
     "language": "python",
     "metadata": {},
     "outputs": [
      {
       "metadata": {},
       "output_type": "pyout",
       "prompt_number": 5,
       "text": [
        "9200.0"
       ]
      }
     ],
     "prompt_number": 5
    },
    {
     "cell_type": "markdown",
     "metadata": {},
     "source": [
      "Pou\u017eit\u00ed prom\u011bnn\u00fdch je intuitivn\u00ed:"
     ]
    },
    {
     "cell_type": "code",
     "collapsed": false,
     "input": [
      "a=1\n",
      "b=5\n",
      "a+b"
     ],
     "language": "python",
     "metadata": {},
     "outputs": [
      {
       "metadata": {},
       "output_type": "pyout",
       "prompt_number": 19,
       "text": [
        "6"
       ]
      }
     ],
     "prompt_number": 19
    },
    {
     "cell_type": "code",
     "collapsed": false,
     "input": [
      "b**2 #Druh\u00e1 mocnina"
     ],
     "language": "python",
     "metadata": {},
     "outputs": [
      {
       "metadata": {},
       "output_type": "pyout",
       "prompt_number": 21,
       "text": [
        "25"
       ]
      }
     ],
     "prompt_number": 21
    },
    {
     "cell_type": "heading",
     "level": 2,
     "metadata": {},
     "source": [
      "Moduly v Pythonu"
     ]
    },
    {
     "cell_type": "markdown",
     "metadata": {},
     "source": [
      "Pro za\u010d\u00e1tek nejslo\u017eit\u011bj\u0161\u00ed je pochopit pou\u017eit\u00ed modul\u016f v Pythonu:"
     ]
    },
    {
     "cell_type": "code",
     "collapsed": false,
     "input": [
      "#Zp\u0159\u00edstupn\u011bn\u00ed modulu, kter\u00fd chceme pou\u017e\u00edvat\n",
      "import math\n",
      "\n",
      "#Z modulu te\u010f lze vyu\u017e\u00edvat jeho funkce a prom\u011bnn\u00e9\n",
      "print math.pi\n",
      "print math.sin(math.pi/2)\n",
      "\n",
      "#Pro jednodu\u0161\u0161\u00ed z\u00e1pis lze nahr\u00e1t do na\u0161eho jmenn\u00e9ho prostoru konkr\u00e9tn\u00ed funkce\n",
      "from math import cos\n",
      "print cos(math.pi/4)\n",
      "\n",
      "#P\u0159\u00edpadn\u011b si n\u00e1zev modulu m\u016f\u017eeme zkr\u00e1tit takto:\n",
      "import math as m\n",
      "print m.pi\n",
      "print m.exp(1)\n"
     ],
     "language": "python",
     "metadata": {},
     "outputs": [
      {
       "output_type": "stream",
       "stream": "stdout",
       "text": [
        "3.14159265359\n",
        "1.0\n",
        "0.707106781187\n",
        "3.14159265359\n",
        "2.71828182846\n",
        "3.14159265359\n"
       ]
      }
     ],
     "prompt_number": 25
    },
    {
     "cell_type": "code",
     "collapsed": false,
     "input": [
      "#Bez nahr\u00e1n\u00ed to nefunguje\n",
      "print math.pi\n",
      "print pi"
     ],
     "language": "python",
     "metadata": {},
     "outputs": [
      {
       "output_type": "stream",
       "stream": "stdout",
       "text": [
        "3.14159265359\n"
       ]
      },
      {
       "ename": "NameError",
       "evalue": "name 'pi' is not defined",
       "output_type": "pyerr",
       "traceback": [
        "\u001b[1;31m---------------------------------------------------------------------------\u001b[0m\n\u001b[1;31mNameError\u001b[0m                                 Traceback (most recent call last)",
        "\u001b[1;32m<ipython-input-18-4da13a93f212>\u001b[0m in \u001b[0;36m<module>\u001b[1;34m()\u001b[0m\n\u001b[0;32m      1\u001b[0m \u001b[1;31m#Bez nahr\u00e1n\u00ed to nefunguje\u001b[0m\u001b[1;33m\u001b[0m\u001b[1;33m\u001b[0m\u001b[0m\n\u001b[0;32m      2\u001b[0m \u001b[1;32mprint\u001b[0m \u001b[0mmath\u001b[0m\u001b[1;33m.\u001b[0m\u001b[0mpi\u001b[0m\u001b[1;33m\u001b[0m\u001b[0m\n\u001b[1;32m----> 3\u001b[1;33m \u001b[1;32mprint\u001b[0m \u001b[0mpi\u001b[0m\u001b[1;33m\u001b[0m\u001b[0m\n\u001b[0m",
        "\u001b[1;31mNameError\u001b[0m: name 'pi' is not defined"
       ]
      }
     ],
     "prompt_number": 18
    },
    {
     "cell_type": "markdown",
     "metadata": {},
     "source": [
      "-------------------------\n",
      "\n",
      "Pro v\u011bdeck\u00e9 \u00fa\u010dely se nej\u010dast\u011bji pou\u017e\u00edvaj\u00ed tyto dva moduly:\n",
      "- [NumPy](https://en.wikipedia.org/wiki/NumPy)\n",
      "- [Matplotlib](https://en.wikipedia.org/wiki/Matplotlib)"
     ]
    },
    {
     "cell_type": "code",
     "collapsed": false,
     "input": [
      "import numpy as np #Numerika, vektory, matice\n",
      "import matplotlib.pyplot as plt #Tisk graf\u016f\n",
      "\n",
      "a=np.linspace(0,10,21)\n",
      "print \"a =\",a\n",
      "b=np.exp(a)\n",
      "print \"b =\",b\n",
      "\n",
      "#Zajist\u00ed zobrazen\u00ed grafu p\u0159\u00edmo na t\u00e9to str\u00e1nce\n",
      "%matplotlib inline \n",
      "\n",
      "fig=plt.plot(a,b)"
     ],
     "language": "python",
     "metadata": {},
     "outputs": [
      {
       "output_type": "stream",
       "stream": "stdout",
       "text": [
        "a = [  0.    0.5   1.    1.5   2.    2.5   3.    3.5   4.    4.5   5.    5.5\n",
        "   6.    6.5   7.    7.5   8.    8.5   9.    9.5  10. ]\n",
        "b = [  1.00000000e+00   1.64872127e+00   2.71828183e+00   4.48168907e+00\n",
        "   7.38905610e+00   1.21824940e+01   2.00855369e+01   3.31154520e+01\n",
        "   5.45981500e+01   9.00171313e+01   1.48413159e+02   2.44691932e+02\n",
        "   4.03428793e+02   6.65141633e+02   1.09663316e+03   1.80804241e+03\n",
        "   2.98095799e+03   4.91476884e+03   8.10308393e+03   1.33597268e+04\n",
        "   2.20264658e+04]\n"
       ]
      },
      {
       "metadata": {},
       "output_type": "display_data",
       "png": "[encoded data removed]",
       "text": [
        "<matplotlib.figure.Figure at 0xaf388fec>"
       ]
      }
     ],
     "prompt_number": 55
    },
    {
     "cell_type": "heading",
     "level": 2,
     "metadata": {},
     "source": [
      "Funkce"
     ]
    },
    {
     "cell_type": "markdown",
     "metadata": {},
     "source": [
      "Funkce se definuj\u00ed velice jednodu\u0161e. Co je\u0161t\u011b pat\u0159\u00ed do funkce, a co u\u017e ne, se pozn\u00e1 podle odsazen\u00ed (mezery na za\u010d\u00e1tku \u0159\u00e1dku &lt;TAB&gt;)."
     ]
    },
    {
     "cell_type": "code",
     "collapsed": false,
     "input": [
      "def funkce(parametr1,parametr2):\n",
      "    '''\n",
      "    Sem pat\u0159\u00ed popis funkce.\n",
      "    '''\n",
      "    vystup = parametr1 + parametr2*2\n",
      "    return vystup\n",
      "\n",
      "vystup_funkce = funkce(1,5)\n",
      "print vystup_funkce"
     ],
     "language": "python",
     "metadata": {},
     "outputs": [
      {
       "output_type": "stream",
       "stream": "stdout",
       "text": [
        "11\n"
       ]
      }
     ],
     "prompt_number": 39
    },
    {
     "cell_type": "heading",
     "level": 2,
     "metadata": {},
     "source": [
      "Z\u00e1ke\u0159nosti"
     ]
    },
    {
     "cell_type": "markdown",
     "metadata": {},
     "source": [
      "Po\u0159\u00e1d je to programovac\u00ed jazyk, tak pozor na n\u011bj!"
     ]
    },
    {
     "cell_type": "code",
     "collapsed": false,
     "input": [
      "print 5/2\n",
      "print 5./2\n",
      "print type(2), type(5), type(2.), type('Ahoj')\n",
      "\n",
      "print\n",
      "print 'Tato nep\u0159\u00edjemnost se d\u00e1 obej\u00edt n\u00e1sleduj\u00edc\u00ed importem: from __future__ import division'\n",
      "from __future__ import division\n",
      "print 5/2"
     ],
     "language": "python",
     "metadata": {},
     "outputs": [
      {
       "output_type": "stream",
       "stream": "stdout",
       "text": [
        "2.5\n",
        "2.5\n",
        "<type 'int'> <type 'int'> <type 'float'> <type 'str'>\n",
        "\n",
        "Tato nep\u0159\u00edjemnost se d\u00e1 obej\u00edt n\u00e1sleduj\u00edc\u00ed importem: from __future__ import division\n",
        "2.5\n"
       ]
      }
     ],
     "prompt_number": 48
    },
    {
     "cell_type": "heading",
     "level": 2,
     "metadata": {},
     "source": [
      "Odkazy"
     ]
    },
    {
     "cell_type": "markdown",
     "metadata": {},
     "source": [
      "Na webu \u00daPEI jsou dal\u0161\u00ed tipy a odkazy t\u00fdkaj\u00edc\u00ed se Pythonu: http://upei.fme.vutbr.cz/studium/pomucky-pro-studium-software\n",
      "\n",
      "Pro sta\u017een\u00ed doporu\u010duji cel\u00fd bal\u00edk s ve\u0161ker\u00fdmi knihovnami: https://store.continuum.io/cshop/anaconda/ (pro sta\u017een\u00ed je po\u017eadov\u00e1no zad\u00e1n\u00ed e-mailu)."
     ]
    }
   ],
   "metadata": {}
  }
 ]
}