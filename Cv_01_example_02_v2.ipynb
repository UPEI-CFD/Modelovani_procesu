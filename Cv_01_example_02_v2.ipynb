{
 "metadata": {
  "name": "",
  "signature": "sha256:f87f007280d6783acc19c6df761b2b92f1a7cd7464233976b289a19ad96f7437"
 },
 "nbformat": 3,
 "nbformat_minor": 0,
 "worksheets": [
  {
   "cells": [
    {
     "cell_type": "heading",
     "level": 1,
     "metadata": {},
     "source": [
      "\u010c\u00e1ste\u010dn\u00e9 odpa\u0159en\u00ed sm\u011bsi\n"
     ]
    },
    {
     "cell_type": "heading",
     "level": 2,
     "metadata": {},
     "source": [
      "Zad\u00e1n\u00ed"
     ]
    },
    {
     "cell_type": "markdown",
     "metadata": {},
     "source": [
      "Proud kapaliny slo\u017een\u00e9 z benzenu a toluenu p\u0159it\u00e9k\u00e1 do v\u00fdparn\u00edku, kde je tato sm\u011bs oh\u0159\u00e1ta na 50 \u00b0C. Vystupuj\u00edc\u00ed kapalina z v\u00fdparn\u00edku je tvo\u0159en\u00e1 40 % benzenu a vystupuj\u00edc\u00ed plynn\u00e1 f\u00e1ze je tvo\u0159en\u00e1 68.4 % benzenu. Zbytek do 100 % je v\u017edy toluen.Kolik tepla je nutn\u00e9 dodat na pr\u016fb\u011b\u017en\u00e9 oh\u0159\u00edv\u00e1n\u00ed a odpa\u0159ov\u00e1n\u00ed takov\u00e9to sm\u011bsi? \n",
      "<img src=\"images/Ikona_vyparnik.png\">"
     ]
    },
    {
     "cell_type": "heading",
     "level": 2,
     "metadata": {},
     "source": [
      "Postup \u0159e\u0161en\u00ed"
     ]
    },
    {
     "cell_type": "markdown",
     "metadata": {},
     "source": [
      "Nejd\u0159\u00edve si zkontrolujeme stupn\u011b volnosti:\n",
      "\n",
      "    |  3 nezn\u00e1m\u00e9 - nv, nL, Q        |\n",
      "    | -2 rovnice materi\u00e1ln\u00ed bilance |\n",
      "    | -1 rovnice energetick\u00e9 bilance|\n",
      "    |------------------------------ |\n",
      "    |= 0 stup\u0148\u016f volnosti            |\n",
      "\n",
      "\n",
      "Mohli bychom po\u010d\u00edtat tak\u00e9 m\u011brnou entalpii za nezn\u00e1mou, ale potom bychom do rovnic zahrnuli i rovnice pro v\u00fdpo\u010det t\u011bchto m\u011brn\u00fdch entalpi\u00ed, co\u017e by nezm\u011bnilo v\u00fdsledek.\n",
      "\n",
      "V dal\u0161\u00edm kroce ur\u010d\u00edm\u011b mol\u00e1rn\u00ed toky $n_v$ a $n_L$ z materi\u00e1lov\u00e9 bilance a $Q$ z energetick\u00e9 bilance.\n",
      "\\begin{equation*}\n",
      "1~mol = n_v + n_L\n",
      "\\end{equation*}\n",
      "\\begin{equation*}\n",
      "0.5~mol = 0.684n_v + 0.4n_L\n",
      "\\end{equation*}\n"
     ]
    },
    {
     "cell_type": "code",
     "collapsed": false,
     "input": [
      "#Doporu\u010den\u00e9 nastaven\u00ed\n",
      "from __future__ import division\n",
      "\n",
      "n_L = (0.5 - 0.684) / (0.4 - 0.684)\n",
      "n_v = 1 - n_L\n",
      "print (\"Pr\u016ftok kapaliny = \"), n_L, (\"mol\")\n",
      "print (\"Pr\u016ftok plynu = \"), n_v, (\"mol\")\n",
      "n_L_B = n_L * 0.4\n",
      "n_v_B = n_v * 0.684\n",
      "n_L_T = n_L * 0.6\n",
      "n_v_T = n_v * 0.316\n",
      "print (\"Pr\u016ftok kapaln\u00e9ho benzenu = \"), n_L_B, (\"mol\")\n",
      "print (\"Pr\u016ftok plynn\u00e9ho benzenu = \"), n_v_B, (\"mol\")\n",
      "print (\"Pr\u016ftok kapaln\u00e9ho toluenu = \"), n_L_T, (\"mol\")\n",
      "print (\"Pr\u016ftok plynn\u00e9ho toluenu = \"), n_v_T, (\"mol\")"
     ],
     "language": "python",
     "metadata": {},
     "outputs": [
      {
       "output_type": "stream",
       "stream": "stdout",
       "text": [
        "Pr\u016ftok kapaliny =  0.647887323944 mol\n",
        "Pr\u016ftok plynu =  0.352112676056 mol\n",
        "Pr\u016ftok kapaln\u00e9ho benzenu =  0.259154929577 mol\n",
        "Pr\u016ftok plynn\u00e9ho benzenu =  0.240845070423 mol\n",
        "Pr\u016ftok kapaln\u00e9ho toluenu =  0.388732394366 mol\n",
        "Pr\u016ftok plynn\u00e9ho toluenu =  0.111267605634 mol\n"
       ]
      }
     ],
     "prompt_number": 3
    },
    {
     "cell_type": "markdown",
     "metadata": {},
     "source": [
      "Taulka koeficient\u016f pro v\u00fdpo\u010det m\u011brn\u00e9 tepeln\u00e9 kapacity [kJ/mol-\u00b0C]:\n",
      "\n",
      "| N\u00e1zev     |     A    |     B    |     C     |     D     |\n",
      "|-----------|:--------:|:--------:|:---------:|:---------:|\n",
      "| Benzen, L | 126.5e-3 |   23.4e-5|           |           |\n",
      "| Benzen, v | 74.06e-3 | 32.95e-5 |  -25.2e-8 | 77.57e-12 |\n",
      "| Toluen, L | 148.8e-3 |  32.4e-5 |           |           |\n",
      "| Toluen, v | 94.18e-3 |   38e-5  | -27.86e-8 | 80.33e-12 |\n",
      "\n",
      "V\u00fdparn\u00e9 teplo pro benzen: $\\Delta H_v = 30.765 ~kJ/mol$\n",
      "\n",
      "V\u00fdparn\u00e9 teplo pro toluen: $\\Delta H_v = 33.47 ~kJ/mol$\n",
      "\n",
      "Nezn\u00e1me tlak na vstupu do v\u00fdparn\u00edku, ale budeme uva\u017eovat, \u017ee nen\u00ed v\u00fdznam\u011b rozd\u00edln\u00fd od atmosferick\u00e9ho tlaku. V\u00fdparn\u00edk nepracuje za p\u0159\u00edli\u0161 n\u00edzk\u00fdch teplot, ani za p\u0159\u00edli\u0161 velk\u00e9ho tlaku, proto m\u016f\u017eeme vliv tlaku na entalpii zanedbat."
     ]
    },
    {
     "cell_type": "code",
     "collapsed": false,
     "input": [
      "Torr_to_Pa = 101325 / 760\n",
      "Tlak = 34.8 * Torr_to_Pa\n",
      "print (\"Tlak na v\u00fdstupu z v\u00fdparn\u00edku:\"), Tlak/1000, (\"kPa\")"
     ],
     "language": "python",
     "metadata": {},
     "outputs": [
      {
       "output_type": "stream",
       "stream": "stdout",
       "text": [
        "Tlak na v\u00fdstupu z v\u00fdparn\u00edku: 4.63961842105 kPa\n"
       ]
      }
     ],
     "prompt_number": 17
    },
    {
     "cell_type": "code",
     "collapsed": false,
     "input": [
      "T1=10 #\u00b0C Teplota vstupu do v\u00fdparn\u00edku\n",
      "T2=50 #\u00b0C Teplota v\u00fdstupu z v\u00fdparn\u00edku\n",
      "\n",
      "T3_B = 80.1   #\u00b0C Teplota varu benzenu\n",
      "T3_T = 110.62 #\u00b0C Teplota varu toluenu\n",
      "\n",
      "k_L_B = [126.5e-3, 23.4e-5]\n",
      "k_v_B = [74.06e-3, 32.95e-5, -25.2e-8, 77.57e-12]\n",
      "k_L_T = [148.8e-3, 32.4e-5]\n",
      "k_v_T = [94.18e-3, 38e-5, -27.86e-8, 80.33e-12]\n",
      "\n",
      "delta_H1 = (k_L_B[0]*T2 + k_L_B[1]*T2**2/2) - (k_L_B[0]*T1 + k_L_B[1]*T1**2/2)\n",
      "delta_H2 = (k_L_T[0]*T2 + k_L_T[1]*T2**2/2) - (k_L_T[0]*T1 + k_L_T[1]*T1**2/2)\n",
      "delta_H3 = (k_L_B[0]*T3_B + k_L_B[1]*T3_B**2/2) - (k_L_B[0]*T1 + k_L_B[1]*T1**2/2) + 30.765 + \\\n",
      "           (k_v_B[0]*T2 + k_v_B[1]*T2**2/2 + k_v_B[2]*T2**3/3 + k_v_B[3]*T2**4/4 ) - \\\n",
      "           (k_v_B[0]*T3_B + k_v_B[1]*T3_B**2/2 + k_v_B[2]*T3_B**3/3 + k_v_B[3]*T3_B**4/4)\n",
      "delta_H4 = (k_L_T[0]*T3_T + k_L_T[1]*T3_T**2/2) - (k_L_T[0]*T1 + k_L_T[1]*T1**2/2) + 33.47 + \\\n",
      "           (k_v_T[0]*T2 + k_v_T[1]*T2**2/2 + k_v_T[2]*T2**3/3 + k_v_T[3]*T2**4/4 ) - \\\n",
      "           (k_v_T[0]*T3_T + k_v_T[1]*T3_T**2/2 + k_v_T[2]*T3_T**3/3 + k_v_T[3]*T3_T**4/4)\n",
      "print (\"dH1 =\"), delta_H1, (\"kJ/mol\")\n",
      "print (\"dH2 =\"), delta_H2, (\"kJ/mol\")\n",
      "print (\"dH3 =\"), delta_H3, (\"kJ/mol\")\n",
      "print (\"dH4 =\"), delta_H4, (\"kJ/mol\")"
     ],
     "language": "python",
     "metadata": {},
     "outputs": [
      {
       "output_type": "stream",
       "stream": "stdout",
       "text": [
        "dH1 = 5.3408 kJ/mol\n",
        "dH2 = 6.3408 kJ/mol\n",
        "dH3 = 37.5292469115 kJ/mol\n",
        "dH4 = 42.9604518808 kJ/mol\n"
       ]
      }
     ],
     "prompt_number": 11
    },
    {
     "cell_type": "markdown",
     "metadata": {},
     "source": [
      "Nakonec vypo\u010dteme energetickou bilanci:\n",
      "\n",
      "$Q = \\Delta H = \\sum_{out} n_i H_i - \\sum_{in} n_i H_i $"
     ]
    },
    {
     "cell_type": "code",
     "collapsed": false,
     "input": [
      "Q = n_L_B * delta_H1 + n_v_B * delta_H3 + n_L_T * delta_H2 + n_v_T * delta_H4\n",
      "print (\"Teplo pot\u0159ebn\u00e9 na provoz v\u00fdparn\u00edku:\"), Q, (\"kJ\")"
     ],
     "language": "python",
     "metadata": {},
     "outputs": [
      {
       "output_type": "stream",
       "stream": "stdout",
       "text": [
        "Teplo pot\u0159ebn\u00e9 na provoz v\u00fdparn\u00edku: 17.6678097471 kJ\n"
       ]
      }
     ],
     "prompt_number": 18
    }
   ],
   "metadata": {}
  }
 ]
}