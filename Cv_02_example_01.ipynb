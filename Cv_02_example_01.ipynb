{
 "metadata": {
  "name": "",
  "signature": "sha256:45f97faa818173b48bdeec8dc1d15570b7a0c60aec6973c70c2ea61a5c456c66"
 },
 "nbformat": 3,
 "nbformat_minor": 0,
 "worksheets": [
  {
   "cells": [
    {
     "cell_type": "heading",
     "level": 1,
     "metadata": {},
     "source": [
      "Vyprazd\u0148ov\u00e1n\u00ed n\u00e1doby"
     ]
    },
    {
     "cell_type": "heading",
     "level": 2,
     "metadata": {},
     "source": [
      "Zad\u00e1n\u00ed"
     ]
    },
    {
     "cell_type": "markdown",
     "metadata": {},
     "source": [
      "Z v\u00e1lcov\u00e9 n\u00e1doby vyt\u00e9k\u00e1 voda. Ur\u010dete \u010das, za kter\u00fd dojde k vypr\u00e1zdn\u011bn\u00ed n\u00e1doby. <img src=\"images/Ikona_nadrz.png\">"
     ]
    },
    {
     "cell_type": "markdown",
     "metadata": {},
     "source": [
      "Zadan\u00e9 hodnoty: \n",
      "\n",
      "- T = 60 \u00b0C\n",
      "- Y<sub>D</sub> = 0.2 m\n",
      "- Y<sub>1</sub> = 1.25 m\n",
      "- P<sub>v</sub> = 200 kPa (gauge)\n",
      "- P<sub>b</sub> = 0 Pa (gauge)\n"
     ]
    },
    {
     "cell_type": "heading",
     "level": 2,
     "metadata": {},
     "source": [
      "Postup \u0159e\u0161en\u00ed"
     ]
    },
    {
     "cell_type": "markdown",
     "metadata": {},
     "source": [
      "V ka\u017ed\u00e9m \u010dasov\u00e9m okam\u017eiku plat\u00ed Bernoulliho rovnice..."
     ]
    },
    {
     "cell_type": "code",
     "collapsed": false,
     "input": [
      "from __future__ import division\n",
      "from math import sqrt,pi\n",
      "\n",
      "R=0.5 #m, Pr\u016fm\u011br n\u00e1doby\n",
      "rho=1000 #kg/m3, Hustota vody\n",
      "g=9.81 #m/s2, Gravita\u010dn\u00ed zrychlen\u00ed\n",
      "Pv=200000 #Pa, Tlak v n\u00e1dr\u017ei\n",
      "Y1=1.5 #m, V\u00fd\u0161ka hladniny napln\u011bn\u00e9 n\u00e1dr\u017ee\n",
      "y=1 #m, Okam\u017eit\u00e1 v\u00fd\u0161ka hladiny\n",
      "\n",
      "Pb=0 #Pa, Tlak na v\u00fdtoku\n",
      "YD=0.2 #m, V\u00fd\u0161ka v\u00fdtokov\u00e9ho potrub\u00ed\n",
      "d=0.02 #m, Pr\u016fm\u011br v\u00fdtokov\u00e9ho potrub\u00ed\n",
      "Kp=250 #-, Ztr\u00e1tov\u00fd sou\u010dinitel\n",
      "\n",
      "\n",
      "print (\"Pr\u016ftok m = %.1f kg/s\")%m_dot\n",
      "\n",
      "\n",
      "print (\"Celkov\u00e1 doba vyprazd\u0148ov\u00e1n\u00ed n\u00e1doby t = %.1f s -> tj. %.1f min\")%(t,t/60)"
     ],
     "language": "python",
     "metadata": {},
     "outputs": [
      {
       "output_type": "stream",
       "stream": "stdout",
       "text": [
        "Pr\u016ftok m = 0.4 kg/s\n",
        "Celkov\u00e1 doba vyprazd\u0148ov\u00e1n\u00ed n\u00e1doby t = 2898.3 s -> tj. 48.3 min\n"
       ]
      }
     ],
     "prompt_number": 14
    },
    {
     "cell_type": "heading",
     "level": 2,
     "metadata": {},
     "source": [
      "Stejn\u00e9 \u0159e\u0161en\u00ed numericky"
     ]
    },
    {
     "cell_type": "markdown",
     "metadata": {},
     "source": [
      "Stanov\u00edme si po\u010det krok\u016f ve kter\u00fdch budeme postupn\u011b \u0159e\u0161it kolik vody n\u00e1m z n\u00e1dr\u017ee vyteklo v ka\u017ed\u00e9m kroce. V ka\u017ed\u00e9m kroce uva\u017eujeme konstantn\u00ed v\u00fd\u0161ku hladiny $y$. Ke sni\u017eov\u00e1n\u00ed v\u00fd\u0161ky hladiny $y$ dojde v\u017edy p\u0159i p\u0159echodu na dal\u0161\u00ed \u010dasov\u00fd krok."
     ]
    },
    {
     "cell_type": "code",
     "collapsed": false,
     "input": [
      "import numpy as np\n",
      "\n",
      "n_kroku = 1000\n",
      "y=np.linspace(Y1,0,n_kroku)\n",
      "time=0\n",
      "\n",
      "def m_dot(y):\n",
      "    return \n",
      "\n",
      "print (\"Celkov\u00e1 hmotnost vody v n\u00e1dr\u017ei: %.1f kg\")%m_all\n",
      "print (\"Celkov\u00fd \u010das vyprazd\u0148ov\u00e1n\u00ed t = %f s\")%time\n",
      "print (\"Pr\u016fm\u011brn\u00fd pr\u016ftok b\u011bhem vyprazd\u0148ov\u00e1n\u00ed m = %.2f kg/s\")%(m_all/time)"
     ],
     "language": "python",
     "metadata": {},
     "outputs": [
      {
       "output_type": "stream",
       "stream": "stdout",
       "text": [
        "Celkov\u00e1 hmotnost vody v n\u00e1dr\u017ei: 1178.1 kg\n",
        "Celkov\u00fd \u010das vyprazd\u0148ov\u00e1n\u00ed t = 0.000000 s\n"
       ]
      },
      {
       "ename": "ZeroDivisionError",
       "evalue": "float division by zero",
       "output_type": "pyerr",
       "traceback": [
        "\u001b[1;31m---------------------------------------------------------------------------\u001b[0m\n\u001b[1;31mZeroDivisionError\u001b[0m                         Traceback (most recent call last)",
        "\u001b[1;32m<ipython-input-21-c6e6564aa3ab>\u001b[0m in \u001b[0;36m<module>\u001b[1;34m()\u001b[0m\n\u001b[0;32m     10\u001b[0m \u001b[1;32mprint\u001b[0m \u001b[1;33m(\u001b[0m\u001b[1;34m\"Celkov\u00e1 hmotnost vody v n\u00e1dr\u017ei: %.1f kg\"\u001b[0m\u001b[1;33m)\u001b[0m\u001b[1;33m%\u001b[0m\u001b[0mm_all\u001b[0m\u001b[1;33m\u001b[0m\u001b[0m\n\u001b[0;32m     11\u001b[0m \u001b[1;32mprint\u001b[0m \u001b[1;33m(\u001b[0m\u001b[1;34m\"Celkov\u00fd \u010das vyprazd\u0148ov\u00e1n\u00ed t = %f s\"\u001b[0m\u001b[1;33m)\u001b[0m\u001b[1;33m%\u001b[0m\u001b[0mtime\u001b[0m\u001b[1;33m\u001b[0m\u001b[0m\n\u001b[1;32m---> 12\u001b[1;33m \u001b[1;32mprint\u001b[0m \u001b[1;33m(\u001b[0m\u001b[1;34m\"Pr\u016fm\u011brn\u00fd pr\u016ftok b\u011bhem vyprazd\u0148ov\u00e1n\u00ed m = %.2f kg/s\"\u001b[0m\u001b[1;33m)\u001b[0m\u001b[1;33m%\u001b[0m\u001b[1;33m(\u001b[0m\u001b[0mm_all\u001b[0m\u001b[1;33m/\u001b[0m\u001b[0mtime\u001b[0m\u001b[1;33m)\u001b[0m\u001b[1;33m\u001b[0m\u001b[0m\n\u001b[0m",
        "\u001b[1;31mZeroDivisionError\u001b[0m: float division by zero"
       ]
      }
     ],
     "prompt_number": 21
    },
    {
     "cell_type": "heading",
     "level": 2,
     "metadata": {},
     "source": [
      "Grafick\u00e9 dopln\u011bn\u00ed a pr\u016fb\u011bh numerick\u00e9ho v\u00fdpo\u010dtu"
     ]
    },
    {
     "cell_type": "code",
     "collapsed": false,
     "input": [
      "import matplotlib.pyplot as plt #Tisk graf\u016f\n",
      "%matplotlib inline\n",
      "\n",
      "#tt = np.zeros(y.shape)\n",
      "tt=np.array([])\n",
      "m_t=np.array([])\n",
      "for val in y:\n",
      "    tt=np.append(tt,xxxxx)\n",
      "    m_t=np.append(m_t,xxxxx)\n",
      "\n",
      "plt.ylabel(\"$\\dot m$ [kg/s]\")\n",
      "plt.xlabel(\"y [m]\")\n",
      "aa=plt.plot(y,m_t)\n",
      "plt.show()\n",
      "\n",
      "plt.ylabel(\"Cas [kg/s]\")\n",
      "aa=plt.plot(y, tt)"
     ],
     "language": "python",
     "metadata": {},
     "outputs": [
      {
       "metadata": {},
       "output_type": "display_data",
       "png": "[encoded data removed]",
       "text": [
        "<matplotlib.figure.Figure at 0xb0413a4c>"
       ]
      },
      {
       "metadata": {},
       "output_type": "display_data",
       "png": "[encoded data removed]",
       "text": [
        "<matplotlib.figure.Figure at 0xaf3bcfcc>"
       ]
      }
     ],
     "prompt_number": 20
    }
   ],
   "metadata": {}
  }
 ]
}